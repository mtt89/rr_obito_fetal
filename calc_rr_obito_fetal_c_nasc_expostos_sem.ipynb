{
 "cells": [
  {
   "cell_type": "code",
   "execution_count": 1,
   "id": "57d08ece-e923-4d29-9e22-a588e4d1eaf2",
   "metadata": {},
   "outputs": [],
   "source": [
    "import pandas as pd\n",
    "import numpy as np\n",
    "import matplotlib.pyplot as plt\n",
    "import seaborn as sns\n",
    "from scipy.stats import norm"
   ]
  },
  {
   "cell_type": "markdown",
   "id": "4b7bda6b-eb0e-4e8d-b1db-9913805d5e7b",
   "metadata": {},
   "source": [
    "# Cálculo RR Brasil"
   ]
  },
  {
   "cell_type": "code",
   "execution_count": 3,
   "id": "147a333e-0923-4c6d-b4b1-8485163aa2b6",
   "metadata": {},
   "outputs": [],
   "source": [
    "# Base SIM_DOFET\n",
    "df_sim = pd.read_csv('./base_limpa/base_sim_dofet_limpa_remocao.csv')\n",
    "# Base SINASC\n",
    "df_sinasc = pd.read_csv('./base_limpa/base_sinasc_limpa_remocao.csv')"
   ]
  },
  {
   "cell_type": "code",
   "execution_count": 12,
   "id": "1edaa1f4-8666-4175-8894-988605999882",
   "metadata": {},
   "outputs": [],
   "source": [
    "def calcular_prevalencia_com_ic(n_total, prevalencia, nivel_confianca=0.95):\n",
    "     # Calcula o erro padrão\n",
    "    erro_padrao = np.sqrt((prevalencia * (1 - prevalencia)) / n_total)\n",
    "    \n",
    "    # Calcula o valor crítico Z para o nível de confiança\n",
    "    z = norm.ppf(1 - (1 - nivel_confianca) / 2)\n",
    "    \n",
    "    # Calcula os limites do intervalo de confiança\n",
    "    ic_inferior = prevalencia - z * erro_padrao\n",
    "    ic_superior = prevalencia + z * erro_padrao\n",
    "    \n",
    "    return f'{round(prevalencia*100, 2)} ({round(ic_inferior*100, 2)}-{round(ic_superior*100, 2)})'"
   ]
  },
  {
   "cell_type": "code",
   "execution_count": 19,
   "id": "17472acf-51e0-4193-b9cc-a2db38fd915d",
   "metadata": {},
   "outputs": [],
   "source": [
    "def calculate_rr_e_prevalencia(df_obito, df_nasc, region=None, semana=22):\n",
    "    # Filtrar nascimentos e óbitos a partir da semana gestacional especificada\n",
    "    df_nasc = df_nasc[df_nasc['SEMAGESTAC'] >= semana].reset_index(drop=True)\n",
    "    df_obito = df_obito[df_obito['SEMAGESTAC'] >= semana].reset_index(drop=True)\n",
    "    \n",
    "    # Filtrar óbitos apenas da semana específica para o cálculo do RR\n",
    "    df_obito_semana = df_obito[df_obito['SEMAGESTAC'] == semana]\n",
    "    df_nasc_semana = df_nasc[df_nasc['SEMAGESTAC'] == semana]\n",
    "    if region:\n",
    "        df_nasc = df_nasc[df_nasc['nasc_REGIAO'] == region].reset_index(drop=True)\n",
    "        df_obito_semana = df_obito_semana[df_obito_semana['ocor_REGIAO'] == region].reset_index(drop=True)\n",
    "\n",
    "    # Contagem de óbitos da semana e nascimentos acumulados desde a semana\n",
    "    # Substitua 'Tamanho' pelo nome correto da coluna que contém os dados\n",
    "    deaths = df_obito_semana.groupby('cat_peso_calc').size()  # Contagem de óbitos por grupo\n",
    "    births = df_nasc.groupby('cat_peso_calc').size()  # Contagem de nascimentos por grupo\n",
    "    births_semana = df_nasc_semana.groupby('cat_peso_calc').size()  # Contagem de nascimentos por grupo\n",
    "    # Estatísticas gerais\n",
    "    fetos_em_risco = len(df_nasc) + len(df_obito)  # Todos os fetos a partir da semana\n",
    "    nascimetos_sem = len(df_nasc_semana)  # Nascimentos da semana\n",
    "    obitos_sem = len(df_obito_semana)  # Óbitos da semana\n",
    "    total_nascimentos = nascimetos_sem + obitos_sem\n",
    "\n",
    "    # Prevalencias\n",
    "    prev_AIG = (births_semana['AIG'] + deaths['AIG'])/total_nascimentos\n",
    "    prev_aig_ic = calcular_prevalencia_com_ic(n_total=total_nascimentos, prevalencia=prev_AIG, nivel_confianca=0.95)\n",
    "    prev_PIG = (births_semana['PIG'] + deaths['PIG'])/total_nascimentos\n",
    "    prev_pig_ic = calcular_prevalencia_com_ic(n_total=total_nascimentos, prevalencia=prev_PIG, nivel_confianca=0.95)\n",
    "    prev_GIG =(births_semana['GIG'] + deaths['GIG'])/total_nascimentos\n",
    "    prev_gig_ic = calcular_prevalencia_com_ic(n_total=total_nascimentos, prevalencia=prev_GIG, nivel_confianca=0.95)\n",
    "\n",
    "    # Inicializar o dicionário de resultados\n",
    "    rr_results = {\n",
    "        'Gestational Week': semana,\n",
    "        'Fetuses at Risk': fetos_em_risco,\n",
    "        'Total Births': total_nascimentos,\n",
    "        'Live Births': nascimetos_sem,\n",
    "        'Stillbirths': obitos_sem\n",
    "    }\n",
    "\n",
    "    # Comparações\n",
    "    comparisons = [\n",
    "        ('AIG', 'PIG'),\n",
    "        ('AIG', 'GIG'),\n",
    "        ('GIG', 'PIG')\n",
    "    ]\n",
    "    \n",
    "    for ref, exp in comparisons:\n",
    "        if ref in deaths and exp in deaths and ref in births and exp in births:\n",
    "            rate_exp = deaths[exp] / births[exp]\n",
    "            rate_ref = deaths[ref] / births[ref]\n",
    "            rr = rate_exp / rate_ref\n",
    "            \n",
    "            # Calcular o intervalo de confiança (IC 95%)\n",
    "            ci_lower = rr * np.exp(-1.96 * np.sqrt((1/deaths[exp]) + (1/deaths[ref])))\n",
    "            ci_upper = rr * np.exp(1.96 * np.sqrt((1/deaths[exp]) + (1/deaths[ref])))\n",
    "            \n",
    "            # Adicionar o resultado ao dicionário\n",
    "            rr_results[f'{exp}_vs_{ref}'] = f'{round(rr, 2)} ({round(ci_lower, 2)}–{round(ci_upper, 2)})'\n",
    "        else:\n",
    "            # Se não houver dados suficientes para a comparação, retornar NaN\n",
    "            rr_results[f'{exp}_vs_{ref}'] = 'NaN'\n",
    "        \n",
    "    rr_results['Prevalencia PIG IC 95%'] = prev_pig_ic\n",
    "    rr_results['Prevalencia AIG IC 95%'] = prev_aig_ic\n",
    "    rr_results['Prevalencia GIG IC 95%'] = prev_gig_ic\n",
    "    return pd.DataFrame([rr_results])\n",
    "\n",
    "# Exemplo de uso\n",
    "# df_obito e df_nasc são os DataFrames de óbitos e nascimentos, respectivamente\n",
    "# result = calculate_rr(df_obito, df_nasc, semana=24)\n",
    "# print(result)"
   ]
  },
  {
   "cell_type": "code",
   "execution_count": 21,
   "id": "54318e00-a3ac-4203-a4ec-12495f89fbf5",
   "metadata": {},
   "outputs": [
    {
     "name": "stdout",
     "output_type": "stream",
     "text": [
      "   Gestational Week  Fetuses at Risk  Total Births  Live Births  Stillbirths  \\\n",
      "0                24         27235566         29793        20488         9305   \n",
      "\n",
      "         PIG_vs_AIG        GIG_vs_AIG        PIG_vs_GIG  \\\n",
      "0  3.12 (2.98–3.27)  3.62 (3.44–3.81)  0.86 (0.82–0.91)   \n",
      "\n",
      "  Prevalencia PIG IC 95% Prevalencia AIG IC 95% Prevalencia GIG IC 95%  \n",
      "0     24.41 (23.92-24.9)     46.97 (46.4-47.53)    28.62 (28.11-29.14)  \n"
     ]
    }
   ],
   "source": [
    "# df_obito e df_nasc são os DataFrames de óbitos e nascimentos, respectivamente\n",
    "result = calculate_rr_e_prevalencia(df_obito=df_sim, df_nasc=df_sinasc, semana=24)\n",
    "print(result)"
   ]
  },
  {
   "cell_type": "markdown",
   "id": "01b10495-0735-45dd-bdb0-5ab26058e507",
   "metadata": {},
   "source": [
    "# Brasil Total"
   ]
  },
  {
   "cell_type": "code",
   "execution_count": null,
   "id": "89ee3419-705d-4470-a7fd-bd578e76cd85",
   "metadata": {},
   "outputs": [],
   "source": [
    "df_result_brasil = [calculate_rr_e_prevalencia(df_obito=df_sim, df_nasc=df_sinasc, semana=sem) for sem in range(22,43)]"
   ]
  },
  {
   "cell_type": "code",
   "execution_count": null,
   "id": "2d29be0f-83d0-42c4-9897-e86f7aae29f5",
   "metadata": {},
   "outputs": [],
   "source": [
    "df_result_brasil = pd.concat(df_result_brasil)\n",
    "df_result_brasil.to_csv('./resultado/brasil_total_por_semana_rr_e_prevalencia.csv', index=False)"
   ]
  },
  {
   "cell_type": "code",
   "execution_count": null,
   "id": "02a64ed3-881f-42b9-9141-c05822d6a9da",
   "metadata": {},
   "outputs": [],
   "source": []
  }
 ],
 "metadata": {
  "kernelspec": {
   "display_name": "Python [conda env:base] *",
   "language": "python",
   "name": "conda-base-py"
  },
  "language_info": {
   "codemirror_mode": {
    "name": "ipython",
    "version": 3
   },
   "file_extension": ".py",
   "mimetype": "text/x-python",
   "name": "python",
   "nbconvert_exporter": "python",
   "pygments_lexer": "ipython3",
   "version": "3.12.7"
  }
 },
 "nbformat": 4,
 "nbformat_minor": 5
}
