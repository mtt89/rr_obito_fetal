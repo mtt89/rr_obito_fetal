{
 "cells": [
  {
   "cell_type": "code",
   "execution_count": 1,
   "id": "57d08ece-e923-4d29-9e22-a588e4d1eaf2",
   "metadata": {},
   "outputs": [],
   "source": [
    "import pandas as pd\n",
    "import numpy as np\n",
    "import matplotlib.pyplot as plt\n",
    "import seaborn as sns\n",
    "from scipy.stats import norm"
   ]
  },
  {
   "cell_type": "markdown",
   "id": "4b7bda6b-eb0e-4e8d-b1db-9913805d5e7b",
   "metadata": {},
   "source": [
    "# Cálculo RR Brasil"
   ]
  },
  {
   "cell_type": "code",
   "execution_count": 3,
   "id": "147a333e-0923-4c6d-b4b1-8485163aa2b6",
   "metadata": {},
   "outputs": [],
   "source": [
    "# Base SIM_DOFET\n",
    "df_sim = pd.read_csv('./base_limpa/base_sim_dofet_limpa_remocao.csv')\n",
    "# Base SINASC\n",
    "df_sinasc = pd.read_csv('./base_limpa/base_sinasc_limpa_remocao.csv')"
   ]
  },
  {
   "cell_type": "code",
   "execution_count": 4,
   "id": "1edaa1f4-8666-4175-8894-988605999882",
   "metadata": {},
   "outputs": [],
   "source": [
    "def calcular_prevalencia_com_ic(n_total, prevalencia, nivel_confianca=0.95):\n",
    "     # Calcula o erro padrão\n",
    "    erro_padrao = np.sqrt((prevalencia * (1 - prevalencia)) / n_total)\n",
    "    \n",
    "    # Calcula o valor crítico Z para o nível de confiança\n",
    "    z = norm.ppf(1 - (1 - nivel_confianca) / 2)\n",
    "    \n",
    "    # Calcula os limites do intervalo de confiança\n",
    "    ic_inferior = prevalencia - z * erro_padrao\n",
    "    ic_superior = prevalencia + z * erro_padrao\n",
    "    \n",
    "    return f'{round(prevalencia*100, 2)} ({round(ic_inferior*100, 2)}-{round(ic_superior*100, 2)})'"
   ]
  },
  {
   "cell_type": "code",
   "execution_count": 5,
   "id": "17472acf-51e0-4193-b9cc-a2db38fd915d",
   "metadata": {},
   "outputs": [],
   "source": [
    "def calculate_rr_e_prevalencia(df_obito, df_nasc, region=None, semana=22):\n",
    "    # Filtrar nascimentos e óbitos a partir da semana gestacional especificada\n",
    "    df_nasc = df_nasc[df_nasc['SEMAGESTAC'] >= semana].reset_index(drop=True)\n",
    "    df_obito = df_obito[df_obito['SEMAGESTAC'] >= semana].reset_index(drop=True)\n",
    "    \n",
    "    # Filtrar óbitos apenas da semana específica para o cálculo do RR\n",
    "    df_obito_semana = df_obito[df_obito['SEMAGESTAC'] == semana]\n",
    "    df_nasc_semana = df_nasc[df_nasc['SEMAGESTAC'] == semana]\n",
    "    if region:\n",
    "        df_nasc = df_nasc[df_nasc['nasc_REGIAO'] == region].reset_index(drop=True)\n",
    "        df_obito_semana = df_obito_semana[df_obito_semana['ocor_REGIAO'] == region].reset_index(drop=True)\n",
    "\n",
    "    # Contagem de óbitos da semana e nascimentos acumulados desde a semana\n",
    "    # Substitua 'Tamanho' pelo nome correto da coluna que contém os dados\n",
    "    deaths = df_obito_semana.groupby('cat_peso_calc').size()  # Contagem de óbitos por grupo\n",
    "    births = df_nasc.groupby('cat_peso_calc').size()  # Contagem de nascimentos por grupo\n",
    "    births_semana = df_nasc_semana.groupby('cat_peso_calc').size()  # Contagem de nascimentos por grupo\n",
    "    # Estatísticas gerais\n",
    "    fetos_em_risco = len(df_nasc) + len(df_obito)  # Todos os fetos a partir da semana\n",
    "    nascimetos_sem = len(df_nasc_semana)  # Nascimentos da semana\n",
    "    obitos_sem = len(df_obito_semana)  # Óbitos da semana\n",
    "    total_nascimentos = nascimetos_sem + obitos_sem\n",
    "\n",
    "    # Prevalencias\n",
    "    prev_AIG = (births_semana['AIG'] + deaths['AIG'])/total_nascimentos\n",
    "    prev_aig_ic = calcular_prevalencia_com_ic(n_total=total_nascimentos, prevalencia=prev_AIG, nivel_confianca=0.95)\n",
    "    prev_PIG = (births_semana['PIG'] + deaths['PIG'])/total_nascimentos\n",
    "    prev_pig_ic = calcular_prevalencia_com_ic(n_total=total_nascimentos, prevalencia=prev_PIG, nivel_confianca=0.95)\n",
    "    prev_GIG =(births_semana['GIG'] + deaths['GIG'])/total_nascimentos\n",
    "    prev_gig_ic = calcular_prevalencia_com_ic(n_total=total_nascimentos, prevalencia=prev_GIG, nivel_confianca=0.95)\n",
    "\n",
    "    # Inicializar o dicionário de resultados\n",
    "    rr_results = {\n",
    "        'Gestational Week': semana,\n",
    "        'Fetuses at Risk': fetos_em_risco,\n",
    "        'Total Births': total_nascimentos,\n",
    "        'Live Births': nascimetos_sem,\n",
    "        'Stillbirths': obitos_sem\n",
    "    }\n",
    "\n",
    "    # Comparações\n",
    "    comparisons = [\n",
    "        ('AIG', 'PIG'),\n",
    "        ('AIG', 'GIG'),\n",
    "        ('GIG', 'PIG')\n",
    "    ]\n",
    "    \n",
    "    for ref, exp in comparisons:\n",
    "        if ref in deaths and exp in deaths and ref in births and exp in births:\n",
    "            rate_exp = deaths[exp] / births[exp]\n",
    "            rate_ref = deaths[ref] / births[ref]\n",
    "            rr = rate_exp / rate_ref\n",
    "            \n",
    "            # Calcular o intervalo de confiança (IC 95%)\n",
    "            ci_lower = rr * np.exp(-1.96 * np.sqrt((1/deaths[exp]) + (1/deaths[ref])))\n",
    "            ci_upper = rr * np.exp(1.96 * np.sqrt((1/deaths[exp]) + (1/deaths[ref])))\n",
    "            \n",
    "            # Adicionar o resultado ao dicionário\n",
    "            rr_results[f'{exp}_vs_{ref}'] = f'{round(rr, 2)} ({round(ci_lower, 2)}–{round(ci_upper, 2)})'\n",
    "        else:\n",
    "            # Se não houver dados suficientes para a comparação, retornar NaN\n",
    "            rr_results[f'{exp}_vs_{ref}'] = 'NaN'\n",
    "        \n",
    "    rr_results['Prevalencia PIG IC 95%'] = prev_pig_ic\n",
    "    rr_results['Prevalencia AIG IC 95%'] = prev_aig_ic\n",
    "    rr_results['Prevalencia GIG IC 95%'] = prev_gig_ic\n",
    "    return pd.DataFrame([rr_results])\n",
    "\n",
    "# Exemplo de uso\n",
    "# df_obito e df_nasc são os DataFrames de óbitos e nascimentos, respectivamente\n",
    "# result = calculate_rr(df_obito, df_nasc, semana=24)\n",
    "# print(result)"
   ]
  },
  {
   "cell_type": "markdown",
   "id": "01b10495-0735-45dd-bdb0-5ab26058e507",
   "metadata": {},
   "source": [
    "### Brasil Total"
   ]
  },
  {
   "cell_type": "code",
   "execution_count": 10,
   "id": "89ee3419-705d-4470-a7fd-bd578e76cd85",
   "metadata": {},
   "outputs": [],
   "source": [
    "df_result_brasil = [calculate_rr_e_prevalencia(df_obito=df_sim, df_nasc=df_sinasc, semana=sem) for sem in range(22,43)]\n",
    "df_result_brasil = pd.concat(df_result_brasil)\n",
    "df_result_brasil.to_excel('./resultado/brasil_total_por_semana_rr_e_prevalencia.xlsx', index=False)"
   ]
  },
  {
   "cell_type": "markdown",
   "id": "2988d056-8b7e-446d-999d-f48f2134b595",
   "metadata": {},
   "source": [
    "### Brasil sem covid e zika"
   ]
  },
  {
   "cell_type": "code",
   "execution_count": 15,
   "id": "99e567c6-bef9-4a45-86ca-a6cbd51040c5",
   "metadata": {},
   "outputs": [],
   "source": [
    "df_sim_zika = df_sim[~df_sim['ano_obito'].isin([2015, 2017, 2020, 2021, 2022])]\n",
    "df_sinasc_zika = df_sinasc[~df_sinasc['ano_nasc'].isin([2015, 2017, 2020, 2021, 2022])]"
   ]
  },
  {
   "cell_type": "code",
   "execution_count": 16,
   "id": "002b38b8-981e-4158-943e-edf0b0d1f69c",
   "metadata": {},
   "outputs": [],
   "source": [
    "df_result_brasil_zika = [calculate_rr_e_prevalencia(df_obito=df_sim_zika , df_nasc=df_sinasc_zika, semana=sem) for sem in range(22,43)]\n",
    "df_result_brasil_zika = pd.concat(df_result_brasil_zika)\n",
    "df_result_brasil_zika.to_excel('./resultado/brasil_sem_zika_covid_por_semana_rr_e_prevalencia.xlsx', index=False)"
   ]
  },
  {
   "cell_type": "markdown",
   "id": "02b403ea-9c6d-4692-a77f-62db12914970",
   "metadata": {},
   "source": [
    "### Regiões Total"
   ]
  },
  {
   "cell_type": "code",
   "execution_count": 24,
   "id": "3c7142a1-5d40-40b7-837d-c208d38b2629",
   "metadata": {},
   "outputs": [],
   "source": [
    "lista_regiao = ['Norte', 'Sudeste', 'Sul', 'Centro-Oeste', 'Nordeste']\n",
    "for reg in lista_regiao:\n",
    "    df_result_reg = [calculate_rr_e_prevalencia(df_obito=df_sim, df_nasc=df_sinasc, semana=sem, region=reg) for sem in range(22,43)]\n",
    "    df_result_reg = pd.concat(df_result_reg)\n",
    "    df_result_reg.to_excel(f'./resultado/regiao_total_por_semana_rr_e_prevalencia_{reg}.xlsx', index=False)\n",
    "    "
   ]
  },
  {
   "cell_type": "markdown",
   "id": "414d39d7-638b-473a-b516-9a8f1a568361",
   "metadata": {},
   "source": [
    "### Regiões sem Zika e Covid"
   ]
  },
  {
   "cell_type": "code",
   "execution_count": 26,
   "id": "fbb1338b-5436-46e0-987d-e3c522931958",
   "metadata": {},
   "outputs": [],
   "source": [
    "lista_regiao = ['Norte', 'Sudeste', 'Sul', 'Centro-Oeste', 'Nordeste']\n",
    "for reg in lista_regiao:\n",
    "    df_result_reg = [calculate_rr_e_prevalencia(df_obito=df_sim_zika, df_nasc=df_sinasc_zika, semana=sem, region=reg) for sem in range(22,43)]\n",
    "    df_result_reg = pd.concat(df_result_reg)\n",
    "    df_result_reg.to_excel(f'./resultado/regiao_sem_zika_covid_por_semana_rr_e_prevalencia_{reg}.xlsx', index=False)"
   ]
  },
  {
   "cell_type": "code",
   "execution_count": null,
   "id": "3c71e058-90d6-4c37-b2b2-7c61ed6b9267",
   "metadata": {},
   "outputs": [],
   "source": []
  }
 ],
 "metadata": {
  "kernelspec": {
   "display_name": "Python [conda env:base] *",
   "language": "python",
   "name": "conda-base-py"
  },
  "language_info": {
   "codemirror_mode": {
    "name": "ipython",
    "version": 3
   },
   "file_extension": ".py",
   "mimetype": "text/x-python",
   "name": "python",
   "nbconvert_exporter": "python",
   "pygments_lexer": "ipython3",
   "version": "3.12.7"
  }
 },
 "nbformat": 4,
 "nbformat_minor": 5
}
