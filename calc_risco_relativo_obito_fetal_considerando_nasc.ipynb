{
 "cells": [
  {
   "cell_type": "code",
   "execution_count": 3,
   "metadata": {},
   "outputs": [],
   "source": [
    "import pandas as pd\n",
    "import numpy as np\n",
    "import matplotlib.pyplot as plt\n",
    "import seaborn as sns"
   ]
  },
  {
   "cell_type": "markdown",
   "metadata": {},
   "source": [
    "# Base SIM_DOFET"
   ]
  },
  {
   "cell_type": "code",
   "execution_count": null,
   "metadata": {},
   "outputs": [],
   "source": [
    "df_sim = pd.read_csv('./base_limpa/base_sim_dofet_limpa_remocao.csv')"
   ]
  },
  {
   "cell_type": "code",
   "execution_count": null,
   "metadata": {},
   "outputs": [],
   "source": [
    "df_sim_agreg_regiao = pd.DataFrame(\n",
    "    df_sim.groupby(['cat_periodo_nasc', 'cat_peso_calc', 'ocor_REGIAO']).agg(Tamanho=('data_obito', 'size'))\n",
    ").reset_index()"
   ]
  },
  {
   "cell_type": "code",
   "execution_count": null,
   "metadata": {},
   "outputs": [],
   "source": [
    "# Removendo covid e zika\n",
    "df_sim_agreg_regiao_covid_zika = pd.DataFrame(\n",
    "    df_sim[~df_sim['ano_obito'].isin([2015, 2017, 2020, 2021, 2022])].groupby(['cat_periodo_nasc', 'cat_peso_calc', 'ocor_REGIAO']).agg(Tamanho=('data_obito', 'size'))\n",
    ").reset_index()"
   ]
  },
  {
   "cell_type": "code",
   "execution_count": null,
   "metadata": {},
   "outputs": [],
   "source": [
    "df_sim_agreg_brasil = pd.DataFrame(\n",
    "    df_sim.groupby(['cat_periodo_nasc', 'cat_peso_calc']).agg(Tamanho=('data_obito', 'size'))\n",
    ").reset_index()"
   ]
  },
  {
   "cell_type": "code",
   "execution_count": null,
   "metadata": {},
   "outputs": [],
   "source": [
    "# Removendo covid e zika\n",
    "df_sim_agreg_brasil_covid_zika = pd.DataFrame(\n",
    "    df_sim[~df_sim['ano_obito'].isin([2015, 2017, 2020, 2021, 2022])].groupby(['cat_periodo_nasc', 'cat_peso_calc']).agg(Tamanho=('data_obito', 'size'))\n",
    ").reset_index()"
   ]
  },
  {
   "cell_type": "code",
   "execution_count": null,
   "metadata": {},
   "outputs": [],
   "source": [
    "del df_sim"
   ]
  },
  {
   "cell_type": "markdown",
   "metadata": {},
   "source": [
    "# Base SINASC"
   ]
  },
  {
   "cell_type": "code",
   "execution_count": null,
   "metadata": {},
   "outputs": [],
   "source": [
    "df_sinasc = pd.read_csv('./base_limpa/base_sinasc_limpa_remocao.csv')"
   ]
  },
  {
   "cell_type": "code",
   "execution_count": null,
   "metadata": {},
   "outputs": [],
   "source": [
    "df_sinasc_agreg_regiao = pd.DataFrame(\n",
    "    df_sinasc.groupby(['cat_periodo_nasc', 'cat_peso_calc', 'nasc_REGIAO']).agg(Tamanho=('data_nasc', 'size'))\n",
    ").reset_index()"
   ]
  },
  {
   "cell_type": "code",
   "execution_count": null,
   "metadata": {},
   "outputs": [],
   "source": [
    "# Removendo covid e zika\n",
    "df_sinasc_agreg_regiao_covid_zika = pd.DataFrame(\n",
    "    df_sinasc[~df_sinasc['ano_nasc'].isin([2015, 2017, 2020, 2021, 2022])].groupby(['cat_periodo_nasc', 'cat_peso_calc', 'nasc_REGIAO']).agg(Tamanho=('data_nasc', 'size'))\n",
    ").reset_index()"
   ]
  },
  {
   "cell_type": "code",
   "execution_count": null,
   "metadata": {},
   "outputs": [],
   "source": [
    "df_sinasc_agreg_brasil = pd.DataFrame(\n",
    "    df_sinasc.groupby(['cat_periodo_nasc', 'cat_peso_calc']).agg(Tamanho=('data_nasc', 'size'))\n",
    ").reset_index()"
   ]
  },
  {
   "cell_type": "code",
   "execution_count": null,
   "metadata": {},
   "outputs": [],
   "source": [
    "# Removendo covid e zika\n",
    "df_sinasc_agreg_brasil_covid_zika = pd.DataFrame(\n",
    "    df_sinasc[~df_sinasc['ano_nasc'].isin([2015, 2017, 2020, 2021, 2022])].groupby(['cat_periodo_nasc', 'cat_peso_calc']).agg(Tamanho=('data_nasc', 'size'))\n",
    ").reset_index()"
   ]
  },
  {
   "cell_type": "code",
   "execution_count": null,
   "metadata": {},
   "outputs": [],
   "source": [
    "del df_sinasc"
   ]
  },
  {
   "cell_type": "markdown",
   "metadata": {},
   "source": [
    "# Cálculos todos os anos "
   ]
  },
  {
   "cell_type": "code",
   "execution_count": null,
   "metadata": {},
   "outputs": [],
   "source": [
    "def calculate_rr(df_obito, df_nasc, region=None):\n",
    "    if region:\n",
    "        df_obito = df_obito[df_obito['ocor_REGIAO'] == region].reset_index(drop=True)\n",
    "        df_nasc = df_nasc[df_nasc['nasc_REGIAO'] == region].reset_index(drop=True)\n",
    "    \n",
    "    df_obito['group'] = 'Termo_AIG'\n",
    "    df_obito.loc[(df_obito['cat_periodo_nasc'] == 'termo') & (df_obito['cat_peso_calc'] == 'PIG'), 'group'] = 'Termo_PIG'\n",
    "    df_obito.loc[(df_obito['cat_periodo_nasc'] == 'pre_termo') & (df_obito['cat_peso_calc'] == 'AIG'), 'group'] = 'Pre_Termo_AIG'\n",
    "    df_obito.loc[(df_obito['cat_periodo_nasc'] == 'pre_termo') & (df_obito['cat_peso_calc'] == 'PIG'), 'group'] = 'Pre_Termo_PIG'\n",
    "    df_obito.loc[(df_obito['cat_periodo_nasc'] == 'termo') & (df_obito['cat_peso_calc'] == 'GIG'), 'group'] = 'Termo_GIG'\n",
    "    df_obito.loc[(df_obito['cat_periodo_nasc'] == 'pre_termo') & (df_obito['cat_peso_calc'] == 'GIG'), 'group'] = 'Pre_Termo_GIG'\n",
    "    \n",
    "    df_nasc['group'] = 'Termo_AIG'\n",
    "    df_nasc.loc[(df_nasc['cat_periodo_nasc'] == 'termo') & (df_nasc['cat_peso_calc'] == 'PIG'), 'group'] = 'Termo_PIG'\n",
    "    df_nasc.loc[(df_nasc['cat_periodo_nasc'] == 'pre_termo') & (df_nasc['cat_peso_calc'] == 'AIG'), 'group'] = 'Pre_Termo_AIG'\n",
    "    df_nasc.loc[(df_nasc['cat_periodo_nasc'] == 'pre_termo') & (df_nasc['cat_peso_calc'] == 'PIG'), 'group'] = 'Pre_Termo_PIG'\n",
    "    df_nasc.loc[(df_nasc['cat_periodo_nasc'] == 'termo') & (df_nasc['cat_peso_calc'] == 'GIG'), 'group'] = 'Termo_GIG'\n",
    "    df_nasc.loc[(df_nasc['cat_periodo_nasc'] == 'pre_termo') & (df_nasc['cat_peso_calc'] == 'GIG'), 'group'] = 'Pre_Termo_GIG'\n",
    "    \n",
    "    deaths = df_obito.groupby('group')['Tamanho'].sum()\n",
    "    births = df_nasc.groupby('group')['Tamanho'].sum()\n",
    "    \n",
    "    rr_results = []\n",
    "    comparisons = [\n",
    "        ('Termo_AIG', 'Termo_PIG'),\n",
    "        ('Termo_AIG', 'Pre_Termo_AIG'),\n",
    "        ('Termo_AIG', 'Pre_Termo_PIG'),\n",
    "        ('Termo_AIG', 'Termo_GIG'),\n",
    "        ('Termo_AIG', 'Pre_Termo_GIG')\n",
    "    ]\n",
    "    \n",
    "    for ref, exp in comparisons:\n",
    "        if ref in deaths and exp in deaths and ref in births and exp in births:\n",
    "            rate_exp = deaths[exp] / births[exp]\n",
    "            rate_ref = deaths[ref] / births[ref]\n",
    "            rr = rate_exp / rate_ref\n",
    "            \n",
    "            ci_lower = rr * np.exp(-1.96 * np.sqrt((1/deaths[exp]) + (1/deaths[ref])))\n",
    "            ci_upper = rr * np.exp(1.96 * np.sqrt((1/deaths[exp]) + (1/deaths[ref])))\n",
    "            \n",
    "            rr_results.append({\n",
    "                'Region': region if region else 'Brasil',\n",
    "                'Comparison': f'{exp} vs {ref}',\n",
    "                'RR': round(rr, 2),\n",
    "                'CI Lower': round(ci_lower, 2),\n",
    "                'CI Upper': round(ci_upper, 2)\n",
    "            })\n",
    "    \n",
    "    return pd.DataFrame(rr_results)\n"
   ]
  },
  {
   "cell_type": "code",
   "execution_count": null,
   "metadata": {},
   "outputs": [],
   "source": [
    "df_brasil_geral = calculate_rr(df_obito=df_sim_agreg_brasil, df_nasc=df_sinasc_agreg_brasil)\n",
    "# Exibindo os resultados\n",
    "display(df_brasil_geral)"
   ]
  },
  {
   "cell_type": "code",
   "execution_count": null,
   "metadata": {},
   "outputs": [],
   "source": [
    "df_regioes_geral = pd.concat([calculate_rr(df_obito=df_sim_agreg_regiao, df_nasc=df_sinasc_agreg_regiao, region=region) for region in df_sim_agreg_regiao['ocor_REGIAO'].unique()])\n",
    "display(df_regioes_geral)"
   ]
  },
  {
   "cell_type": "code",
   "execution_count": 13,
   "metadata": {},
   "outputs": [
    {
     "ename": "NameError",
     "evalue": "name 'df_brasil_geral' is not defined",
     "output_type": "error",
     "traceback": [
      "\u001b[1;31m---------------------------------------------------------------------------\u001b[0m",
      "\u001b[1;31mNameError\u001b[0m                                 Traceback (most recent call last)",
      "Cell \u001b[1;32mIn[13], line 1\u001b[0m\n\u001b[1;32m----> 1\u001b[0m df_brasil_geral\u001b[38;5;241m.\u001b[39mto_csv(\u001b[38;5;124m'\u001b[39m\u001b[38;5;124mresultado/rr_obitos_c_nasc_brasil.csv\u001b[39m\u001b[38;5;124m'\u001b[39m)\n\u001b[0;32m      2\u001b[0m df_regioes_geral\u001b[38;5;241m.\u001b[39mto_csv(\u001b[38;5;124m'\u001b[39m\u001b[38;5;124mresultado/rr_obitos_c_nasc_regiao.csv\u001b[39m\u001b[38;5;124m'\u001b[39m)\n",
      "\u001b[1;31mNameError\u001b[0m: name 'df_brasil_geral' is not defined"
     ]
    }
   ],
   "source": [
    "df_brasil_geral.to_csv('resultado/rr_obitos_c_nasc_brasil.csv', index=False)\n",
    "df_regioes_geral.to_csv('resultado/rr_obitos_c_nasc_regiao.csv', index=False)"
   ]
  },
  {
   "cell_type": "code",
   "execution_count": 15,
   "metadata": {},
   "outputs": [],
   "source": [
    "df_brasil_geral = pd.read_csv('resultado/rr_obitos_c_nasc_brasil.csv')\n",
    "df_regioes_geral = pd.read_csv('resultado/rr_obitos_c_nasc_regiao.csv')"
   ]
  },
  {
   "cell_type": "code",
   "execution_count": 17,
   "metadata": {},
   "outputs": [
    {
     "name": "stderr",
     "output_type": "stream",
     "text": [
      "C:\\Users\\gabri\\AppData\\Local\\Temp\\ipykernel_3784\\67614609.py:6: FutureWarning: \n",
      "\n",
      "Passing `palette` without assigning `hue` is deprecated and will be removed in v0.14.0. Assign the `x` variable to `hue` and set `legend=False` for the same effect.\n",
      "\n",
      "  ax = sns.boxplot(x=\"Comparison\", y=\"RR_100\", data=df_graf_geral, palette=[\"#D8A4C8\", \"#F4D03F\", \"#6C3483\", \"#1F618D\"])\n",
      "C:\\Users\\gabri\\AppData\\Local\\Temp\\ipykernel_3784\\67614609.py:6: UserWarning: \n",
      "The palette list has fewer values (4) than needed (5) and will cycle, which may produce an uninterpretable plot.\n",
      "  ax = sns.boxplot(x=\"Comparison\", y=\"RR_100\", data=df_graf_geral, palette=[\"#D8A4C8\", \"#F4D03F\", \"#6C3483\", \"#1F618D\"])\n"
     ]
    },
    {
     "data": {
      "image/png": "[encoded data removed]",
      "text/plain": [
       "<Figure size 1000x600 with 1 Axes>"
      ]
     },
     "metadata": {},
     "output_type": "display_data"
    }
   ],
   "source": [
    "df_graf_geral = pd.concat([df_regioes_geral, df_brasil_geral])\n",
    "df_graf_geral['RR_100'] = df_graf_geral['RR']\n",
    "\n",
    "# Criar o boxplot\n",
    "plt.figure(figsize=(10, 6))  # Aumentar tamanho do gráfico\n",
    "ax = sns.boxplot(x=\"Comparison\", y=\"RR_100\", data=df_graf_geral, palette=[\"#D8A4C8\", \"#F4D03F\", \"#6C3483\", \"#1F618D\"])\n",
    "\n",
    "# Adicionar pontos médios\n",
    "sns.stripplot(x=\"Comparison\", y=\"RR_100\", data=df_graf_geral, color=\"blue\", size=8, jitter=False)\n",
    "\n",
    "# Adicionar rótulos dos valores\n",
    "# for i, value in enumerate(df_graf[\"RR_100\"]):\n",
    "#     plt.text(i, value + 5, f\"{value:.1f}\", ha='center', fontsize=10, fontweight='bold')\n",
    "\n",
    "# Configurações do gráfico\n",
    "plt.ylabel(\"Stillbirth relative risk\")\n",
    "plt.xlabel(\"Newborn types\")\n",
    "plt.ylim(0, max(df_graf_geral[\"RR_100\"]) + 50)  # Ajustar limite superior\n",
    "plt.xticks(rotation=45)\n",
    "plt.title(\"Boxplot of Stillbirth Relative Risk by Newborn Type\")\n",
    "\n",
    "# Mostrar o gráfico\n",
    "plt.show()"
   ]
  },
  {
   "cell_type": "code",
   "execution_count": null,
   "metadata": {},
   "outputs": [],
   "source": []
  },
  {
   "cell_type": "markdown",
   "metadata": {},
   "source": [
    "# Cálculo ZIKA e COVID"
   ]
  },
  {
   "cell_type": "code",
   "execution_count": null,
   "metadata": {},
   "outputs": [],
   "source": [
    "df_brasil_covid_zika = calculate_rr(df_obito=df_sim_agreg_brasil_covid_zika, df_nasc=df_sinasc_agreg_brasil_covid_zika)\n",
    "# Exibindo os resultados\n",
    "display(df_brasil_covid_zika)"
   ]
  },
  {
   "cell_type": "code",
   "execution_count": null,
   "metadata": {},
   "outputs": [],
   "source": [
    "df_regioes_covid_zika = pd.concat([calculate_rr(df_obito=df_sim_agreg_regiao_covid_zika, df_nasc=df_sinasc_agreg_regiao_covid_zika, region=region) for region in df_sim_agreg_regiao['ocor_REGIAO'].unique()])\n",
    "display(df_regioes_covid_zika)"
   ]
  },
  {
   "cell_type": "code",
   "execution_count": null,
   "metadata": {},
   "outputs": [],
   "source": []
  },
  {
   "cell_type": "code",
   "execution_count": null,
   "metadata": {},
   "outputs": [],
   "source": [
    "df_brasil_covid_zika.to_csv('resultado/rr_obitos_c_nasc_brasil_covid_zika.csv', index=False)\n",
    "df_regioes_covid_zika.to_csv('resultado/rr_obitos_c_nasc_regiao_covid_zika.csv', index=False)"
   ]
  },
  {
   "cell_type": "code",
   "execution_count": null,
   "metadata": {},
   "outputs": [],
   "source": [
    "df_graf_covid_zika = pd.concat([df_regioes_covid_zika, df_brasil_covid_zika])\n",
    "df_graf_covid_zika['RR_100'] = df_graf_covid_zika['RR']*100\n",
    "\n",
    "# Criar o boxplot\n",
    "plt.figure(figsize=(10, 6))  # Aumentar tamanho do gráfico\n",
    "ax = sns.boxplot(x=\"Comparison\", y=\"RR_100\", data=df_graf_covid_zika, palette=[\"#D8A4C8\", \"#F4D03F\", \"#6C3483\", \"#1F618D\"])\n",
    "\n",
    "# Adicionar pontos médios\n",
    "sns.stripplot(x=\"Comparison\", y=\"RR_100\", data=df_graf_covid_zika, color=\"blue\", size=8, jitter=False)\n",
    "\n",
    "# Adicionar rótulos dos valores\n",
    "# for i, value in enumerate(df_graf[\"RR_100\"]):\n",
    "#     plt.text(i, value + 5, f\"{value:.1f}\", ha='center', fontsize=10, fontweight='bold')\n",
    "\n",
    "# Configurações do gráfico\n",
    "plt.ylabel(\"Stillbirth relative risk\")\n",
    "plt.xlabel(\"Newborn types\")\n",
    "plt.ylim(0, max(df_graf_covid_zika[\"RR_100\"]) + 50)  # Ajustar limite superior\n",
    "plt.xticks(rotation=45)\n",
    "plt.title(\"Boxplot of Stillbirth Relative Risk by Newborn Type\")\n",
    "\n",
    "# Mostrar o gráfico\n",
    "plt.show()"
   ]
  },
  {
   "cell_type": "markdown",
   "metadata": {},
   "source": [
    "# Análise geral"
   ]
  },
  {
   "cell_type": "markdown",
   "metadata": {},
   "source": [
    "1. Brasil Geral\n",
    "\n",
    "Os resultados indicam que a prematuridade é o principal fator de risco para óbito fetal.\n",
    "\n",
    "O grupo Pre_Termo_PIG vs Termo_AIG apresenta o maior risco relativo (RR = 77.36), mostrando que bebês prematuros pequenos para idade gestacional têm uma vulnerabilidade extrema.\n",
    "\n",
    "O grupo Pre_Termo_AIG vs Termo_AIG também exibe um risco elevado (RR = 24.90), reforçando que a prematuridade sozinha já é um fator de risco importante.\n",
    "\n",
    "Bebês Termo_PIG vs Termo_AIG apresentam um risco 3.74 vezes maior de óbito, sugerindo que restrição de crescimento intrauterino também impacta negativamente a sobrevida.\n",
    "\n",
    "O grupo Termo_GIG vs Termo_AIG (RR = 2.21) e Pre_Termo_GIG vs Termo_AIG (RR = 19.60) mostram que bebês grandes também enfrentam riscos elevados, principalmente quando são prematuros.\n",
    "\n",
    "2. Região Geral\n",
    "\n",
    "Há variações significativas entre as regiões:\n",
    "\n",
    "Centro-Oeste tem os maiores riscos para Pre_Termo_PIG vs Termo_AIG (RR = 89.36) e Pre_Termo_AIG vs Termo_AIG (RR = 27.56), indicando que a prematuridade tem um impacto muito forte nessa região.\n",
    "\n",
    "Nordeste apresenta riscos mais baixos para os grupos prematuros, com Pre_Termo_PIG vs Termo_AIG em 69.21 e Pre_Termo_AIG vs Termo_AIG em 21.83.\n",
    "\n",
    "Norte é a região com menor impacto da prematuridade, com Pre_Termo_PIG vs Termo_AIG em 63.70 e Pre_Termo_AIG vs Termo_AIG em 21.45.\n",
    "\n",
    "Sudeste tem os maiores valores de RR para Pre_Termo_PIG vs Termo_AIG (92.05) e Pre_Termo_AIG vs Termo_AIG (30.04), sugerindo que a prematuridade impacta mais essa região.\n",
    "\n",
    "Sul apresenta um perfil semelhante ao Sudeste, com Pre_Termo_PIG vs Termo_AIG em 85.80 e Pre_Termo_AIG vs Termo_AIG em 25.91.\n",
    "\n",
    "3. Brasil (Removendo Zika e COVID)\n",
    "\n",
    "A remoção de eventos epidêmicos reduz levemente os riscos:\n",
    "\n",
    "O Pre_Termo_PIG vs Termo_AIG cai de 77.36 para 75.68, e o Pre_Termo_AIG vs Termo_AIG diminui de 24.90 para 24.43.\n",
    "\n",
    "Pequenas reduções também ocorrem para Pre_Termo_GIG vs Termo_AIG (de 19.60 para 19.01) e Termo_PIG vs Termo_AIG (de 3.74 para 3.72), sugerindo que Zika e COVID aumentavam levemente a mortalidade fetal.\n",
    "\n",
    "4. Região (Removendo Zika e COVID)\n",
    "\n",
    "Centro-Oeste continua tendo os maiores riscos, mas os valores diminuem levemente.\n",
    "\n",
    "Nordeste e Norte mantêm a tendência de menor impacto da prematuridade.\n",
    "\n",
    "Sudeste e Sul ainda apresentam os maiores riscos para Pre_Termo_PIG vs Termo_AIG e Pre_Termo_AIG vs Termo_AIG, mas com redução leve.\n",
    "\n",
    "Comparativo Geral\n",
    "\n",
    "O impacto da prematuridade é o maior fator de risco\n",
    "\n",
    "O grupo Pre_Termo_PIG vs Termo_AIG apresenta os maiores RRs em todas as análises.\n",
    "\n",
    "A remoção de Zika e COVID reduz os valores, mas o padrão permanece.\n",
    "\n",
    "Diferenças regionais no impacto da prematuridade\n",
    "\n",
    "O Sudeste tem os maiores riscos associados à prematuridade.\n",
    "\n",
    "O Norte e Nordeste apresentam riscos menores para os prematuros.\n",
    "\n",
    "Restrição de crescimento intrauterino agrava a prematuridade\n",
    "\n",
    "Os riscos mais altos são para bebês Pre_Termo_PIG, independentemente da região.\n",
    "\n",
    "Bebês Termo_PIG têm um risco elevado, mas menor comparado aos prematuros.\n",
    "\n",
    "Bebês GIG têm um padrão misto\n",
    "\n",
    "Termo_GIG vs Termo_AIG apresenta risco aumentado, mas não tanto quanto os prematuros.\n",
    "\n",
    "Pre_Termo_GIG vs Termo_AIG tem menor impacto comparado a outros grupos prematuros.\n",
    "\n",
    "Conclusão\n",
    "A prematuridade combinada com restrição de crescimento é o maior fator de risco para óbito fetal, especialmente no Sudeste. A remoção de Zika e COVID reduz os riscos, mas não altera significativamente o padrão geral. Regiões como Norte e Nordeste apresentam menor impacto da prematuridade extrema, enquanto o Sudeste e Sul têm os maiores RRs para bebês prematuros."
   ]
  },
  {
   "cell_type": "code",
   "execution_count": null,
   "metadata": {},
   "outputs": [],
   "source": []
  }
 ],
 "metadata": {
  "kernelspec": {
   "display_name": "Python [conda env:base] *",
   "language": "python",
   "name": "conda-base-py"
  },
  "language_info": {
   "codemirror_mode": {
    "name": "ipython",
    "version": 3
   },
   "file_extension": ".py",
   "mimetype": "text/x-python",
   "name": "python",
   "nbconvert_exporter": "python",
   "pygments_lexer": "ipython3",
   "version": "3.12.7"
  }
 },
 "nbformat": 4,
 "nbformat_minor": 4
}
