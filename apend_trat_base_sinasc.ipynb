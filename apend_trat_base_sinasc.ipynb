{
 "cells": [
  {
   "cell_type": "code",
   "execution_count": 1,
   "metadata": {},
   "outputs": [],
   "source": [
    "import pandas as pd\n",
    "import numpy as np\n",
    "from Funcoes_auxiliares.func_aux import *"
   ]
  },
  {
   "cell_type": "code",
   "execution_count": 3,
   "metadata": {},
   "outputs": [],
   "source": [
    "pasta_origem = r\"D:/ETLSINASC\"\n",
    "year =[2013, 2014, 2015, 2016, 2017, 2018, 2019, 2020, 2021, 2022]"
   ]
  },
  {
   "cell_type": "code",
   "execution_count": 4,
   "metadata": {},
   "outputs": [],
   "source": [
    "def function_list_path_files(path: str):\n",
    "    \"\"\"\n",
    "    Maps files to a specified path\n",
    "    :param path (str): Path of the folder that should be mapped\n",
    "    :return: Returns a list with the path of all files in the folder.\n",
    "    \"\"\"\n",
    "    arquivos = []\n",
    "    for diretorio_raiz, _, arquivos_na_pasta in os.walk(path):\n",
    "        for arquivo in arquivos_na_pasta:\n",
    "            endereco_completo = os.path.join(diretorio_raiz, arquivo)\n",
    "            arquivos.append(endereco_completo)\n",
    "    return arquivos"
   ]
  },
  {
   "cell_type": "code",
   "execution_count": 6,
   "metadata": {},
   "outputs": [],
   "source": [
    "lista_arq = function_list_path_files(path=pasta_origem)"
   ]
  },
  {
   "cell_type": "code",
   "execution_count": 8,
   "metadata": {},
   "outputs": [],
   "source": [
    "# Filter addresses according to the years of interest\n",
    "enderecos_filtrados = [endereco for endereco in lista_arq if any(str(ano) in endereco for ano in year)]"
   ]
  },
  {
   "cell_type": "code",
   "execution_count": 10,
   "metadata": {},
   "outputs": [],
   "source": [
    "variaveis = [\n",
    "    'data_nasc'\n",
    "    , 'ano_nasc'\n",
    "    , 'nasc_MUNNOMEX' #'ocor_MUNNOMEX'\n",
    "    , 'res_MUNNOMEX'\n",
    "    , 'nasc_CAPITAL'\n",
    "    , 'res_CAPITAL'\n",
    "    , 'nasc_REGIAO'\n",
    "    , 'res_REGIAO'\n",
    "    , 'nasc_SIGLA_UF'\n",
    "    , 'res_SIGLA_UF'\n",
    "    , 'IDADEMAE'\n",
    "    , 'ESCMAE2010'\n",
    "    , 'GRAVIDEZ'\n",
    "    , 'SEMAGESTAC'\n",
    "    , 'SEXO'\n",
    "    , 'def_sexo'\n",
    "    , 'PESO'\n",
    "\n",
    "    ]"
   ]
  },
  {
   "cell_type": "code",
   "execution_count": 12,
   "metadata": {},
   "outputs": [
    {
     "name": "stderr",
     "output_type": "stream",
     "text": [
      "<ipython-input-12-03f65b3af858>:1: DtypeWarning: Columns (30,112,113,114,115) have mixed types. Specify dtype option on import or set low_memory=False.\n",
      "  df = [pd.read_csv(i)[variaveis] for i in enderecos_filtrados]\n",
      "<ipython-input-12-03f65b3af858>:1: DtypeWarning: Columns (25,114,115,116,117) have mixed types. Specify dtype option on import or set low_memory=False.\n",
      "  df = [pd.read_csv(i)[variaveis] for i in enderecos_filtrados]\n",
      "<ipython-input-12-03f65b3af858>:1: DtypeWarning: Columns (117) have mixed types. Specify dtype option on import or set low_memory=False.\n",
      "  df = [pd.read_csv(i)[variaveis] for i in enderecos_filtrados]\n",
      "<ipython-input-12-03f65b3af858>:1: DtypeWarning: Columns (32) have mixed types. Specify dtype option on import or set low_memory=False.\n",
      "  df = [pd.read_csv(i)[variaveis] for i in enderecos_filtrados]\n",
      "<ipython-input-12-03f65b3af858>:1: DtypeWarning: Columns (32) have mixed types. Specify dtype option on import or set low_memory=False.\n",
      "  df = [pd.read_csv(i)[variaveis] for i in enderecos_filtrados]\n",
      "<ipython-input-12-03f65b3af858>:1: DtypeWarning: Columns (32) have mixed types. Specify dtype option on import or set low_memory=False.\n",
      "  df = [pd.read_csv(i)[variaveis] for i in enderecos_filtrados]\n",
      "<ipython-input-12-03f65b3af858>:1: DtypeWarning: Columns (32) have mixed types. Specify dtype option on import or set low_memory=False.\n",
      "  df = [pd.read_csv(i)[variaveis] for i in enderecos_filtrados]\n",
      "<ipython-input-12-03f65b3af858>:1: DtypeWarning: Columns (32) have mixed types. Specify dtype option on import or set low_memory=False.\n",
      "  df = [pd.read_csv(i)[variaveis] for i in enderecos_filtrados]\n",
      "<ipython-input-12-03f65b3af858>:1: DtypeWarning: Columns (32) have mixed types. Specify dtype option on import or set low_memory=False.\n",
      "  df = [pd.read_csv(i)[variaveis] for i in enderecos_filtrados]\n",
      "<ipython-input-12-03f65b3af858>:1: DtypeWarning: Columns (32) have mixed types. Specify dtype option on import or set low_memory=False.\n",
      "  df = [pd.read_csv(i)[variaveis] for i in enderecos_filtrados]\n",
      "<ipython-input-12-03f65b3af858>:1: DtypeWarning: Columns (32) have mixed types. Specify dtype option on import or set low_memory=False.\n",
      "  df = [pd.read_csv(i)[variaveis] for i in enderecos_filtrados]\n",
      "<ipython-input-12-03f65b3af858>:1: DtypeWarning: Columns (30,112,113,114,115) have mixed types. Specify dtype option on import or set low_memory=False.\n",
      "  df = [pd.read_csv(i)[variaveis] for i in enderecos_filtrados]\n",
      "<ipython-input-12-03f65b3af858>:1: DtypeWarning: Columns (32) have mixed types. Specify dtype option on import or set low_memory=False.\n",
      "  df = [pd.read_csv(i)[variaveis] for i in enderecos_filtrados]\n",
      "<ipython-input-12-03f65b3af858>:1: DtypeWarning: Columns (32) have mixed types. Specify dtype option on import or set low_memory=False.\n",
      "  df = [pd.read_csv(i)[variaveis] for i in enderecos_filtrados]\n",
      "<ipython-input-12-03f65b3af858>:1: DtypeWarning: Columns (117) have mixed types. Specify dtype option on import or set low_memory=False.\n",
      "  df = [pd.read_csv(i)[variaveis] for i in enderecos_filtrados]\n",
      "<ipython-input-12-03f65b3af858>:1: DtypeWarning: Columns (32) have mixed types. Specify dtype option on import or set low_memory=False.\n",
      "  df = [pd.read_csv(i)[variaveis] for i in enderecos_filtrados]\n",
      "<ipython-input-12-03f65b3af858>:1: DtypeWarning: Columns (117) have mixed types. Specify dtype option on import or set low_memory=False.\n",
      "  df = [pd.read_csv(i)[variaveis] for i in enderecos_filtrados]\n",
      "<ipython-input-12-03f65b3af858>:1: DtypeWarning: Columns (32) have mixed types. Specify dtype option on import or set low_memory=False.\n",
      "  df = [pd.read_csv(i)[variaveis] for i in enderecos_filtrados]\n",
      "<ipython-input-12-03f65b3af858>:1: DtypeWarning: Columns (32) have mixed types. Specify dtype option on import or set low_memory=False.\n",
      "  df = [pd.read_csv(i)[variaveis] for i in enderecos_filtrados]\n",
      "<ipython-input-12-03f65b3af858>:1: DtypeWarning: Columns (30,112,113,114,115) have mixed types. Specify dtype option on import or set low_memory=False.\n",
      "  df = [pd.read_csv(i)[variaveis] for i in enderecos_filtrados]\n",
      "<ipython-input-12-03f65b3af858>:1: DtypeWarning: Columns (17) have mixed types. Specify dtype option on import or set low_memory=False.\n",
      "  df = [pd.read_csv(i)[variaveis] for i in enderecos_filtrados]\n",
      "<ipython-input-12-03f65b3af858>:1: DtypeWarning: Columns (117) have mixed types. Specify dtype option on import or set low_memory=False.\n",
      "  df = [pd.read_csv(i)[variaveis] for i in enderecos_filtrados]\n",
      "<ipython-input-12-03f65b3af858>:1: DtypeWarning: Columns (117) have mixed types. Specify dtype option on import or set low_memory=False.\n",
      "  df = [pd.read_csv(i)[variaveis] for i in enderecos_filtrados]\n",
      "<ipython-input-12-03f65b3af858>:1: DtypeWarning: Columns (32) have mixed types. Specify dtype option on import or set low_memory=False.\n",
      "  df = [pd.read_csv(i)[variaveis] for i in enderecos_filtrados]\n",
      "<ipython-input-12-03f65b3af858>:1: DtypeWarning: Columns (32) have mixed types. Specify dtype option on import or set low_memory=False.\n",
      "  df = [pd.read_csv(i)[variaveis] for i in enderecos_filtrados]\n",
      "<ipython-input-12-03f65b3af858>:1: DtypeWarning: Columns (17) have mixed types. Specify dtype option on import or set low_memory=False.\n",
      "  df = [pd.read_csv(i)[variaveis] for i in enderecos_filtrados]\n",
      "<ipython-input-12-03f65b3af858>:1: DtypeWarning: Columns (117) have mixed types. Specify dtype option on import or set low_memory=False.\n",
      "  df = [pd.read_csv(i)[variaveis] for i in enderecos_filtrados]\n",
      "<ipython-input-12-03f65b3af858>:1: DtypeWarning: Columns (44) have mixed types. Specify dtype option on import or set low_memory=False.\n",
      "  df = [pd.read_csv(i)[variaveis] for i in enderecos_filtrados]\n",
      "<ipython-input-12-03f65b3af858>:1: DtypeWarning: Columns (17) have mixed types. Specify dtype option on import or set low_memory=False.\n",
      "  df = [pd.read_csv(i)[variaveis] for i in enderecos_filtrados]\n",
      "<ipython-input-12-03f65b3af858>:1: DtypeWarning: Columns (24,114,115,116,117) have mixed types. Specify dtype option on import or set low_memory=False.\n",
      "  df = [pd.read_csv(i)[variaveis] for i in enderecos_filtrados]\n",
      "<ipython-input-12-03f65b3af858>:1: DtypeWarning: Columns (32) have mixed types. Specify dtype option on import or set low_memory=False.\n",
      "  df = [pd.read_csv(i)[variaveis] for i in enderecos_filtrados]\n",
      "<ipython-input-12-03f65b3af858>:1: DtypeWarning: Columns (32) have mixed types. Specify dtype option on import or set low_memory=False.\n",
      "  df = [pd.read_csv(i)[variaveis] for i in enderecos_filtrados]\n"
     ]
    }
   ],
   "source": [
    "df = [pd.read_csv(i)[variaveis] for i in enderecos_filtrados]"
   ]
  },
  {
   "cell_type": "code",
   "execution_count": 13,
   "metadata": {},
   "outputs": [],
   "source": [
    "df_sinasc = pd.concat(df)"
   ]
  },
  {
   "cell_type": "code",
   "execution_count": 14,
   "metadata": {},
   "outputs": [],
   "source": [
    "del df"
   ]
  },
  {
   "cell_type": "code",
   "execution_count": 15,
   "metadata": {},
   "outputs": [
    {
     "name": "stdout",
     "output_type": "stream",
     "text": [
      "<class 'pandas.core.frame.DataFrame'>\n",
      "Int64Index: 28445535 entries, 0 to 22548\n",
      "Data columns (total 17 columns):\n",
      " #   Column         Dtype  \n",
      "---  ------         -----  \n",
      " 0   data_nasc      object \n",
      " 1   ano_nasc       int64  \n",
      " 2   nasc_MUNNOMEX  object \n",
      " 3   res_MUNNOMEX   object \n",
      " 4   nasc_CAPITAL   object \n",
      " 5   res_CAPITAL    object \n",
      " 6   nasc_REGIAO    object \n",
      " 7   res_REGIAO     object \n",
      " 8   nasc_SIGLA_UF  object \n",
      " 9   res_SIGLA_UF   object \n",
      " 10  IDADEMAE       float64\n",
      " 11  ESCMAE2010     float64\n",
      " 12  GRAVIDEZ       int64  \n",
      " 13  SEMAGESTAC     float64\n",
      " 14  SEXO           int64  \n",
      " 15  def_sexo       object \n",
      " 16  PESO           float64\n",
      "dtypes: float64(4), int64(3), object(10)\n",
      "memory usage: 3.8+ GB\n"
     ]
    }
   ],
   "source": [
    "df_sinasc.info()"
   ]
  },
  {
   "cell_type": "code",
   "execution_count": 16,
   "metadata": {},
   "outputs": [],
   "source": [
    "df_sinasc['FLAG_BASE'] = 'SINASC'\n",
    "df_sinasc['idademae_faixa'] = [func_categorize_idademae(i) for i in df_sinasc['IDADEMAE']]\n",
    "df_sinasc['escolaridade_mae'] = [func_categorize_escolmae(i) for i in df_sinasc['ESCMAE2010']]\n",
    "df_sinasc['tipo_gravidez'] = [func_categorize_gravidez(i) for i in df_sinasc['GRAVIDEZ']]\n",
    "df_sinasc['idade_gestacao_faixa'] = [func_categorize_idade_gest(i) for i in df_sinasc['SEMAGESTAC']]\n",
    "df_sinasc['peso_faixa'] = [func_categorize_peso(i) for i in df_sinasc['PESO']]\n",
    "\n",
    "df_sinasc = df_sinasc[\n",
    "    [\n",
    "    'data_nasc'\n",
    "    , 'ano_nasc'\n",
    "    , 'nasc_MUNNOMEX'\n",
    "    , 'res_MUNNOMEX'\n",
    "    , 'nasc_CAPITAL'\n",
    "    , 'res_CAPITAL'\n",
    "    , 'nasc_REGIAO'\n",
    "    , 'res_REGIAO'\n",
    "    , 'nasc_SIGLA_UF'\n",
    "    , 'res_SIGLA_UF'\n",
    "    , 'IDADEMAE'\n",
    "    , 'idademae_faixa'\n",
    "    , 'ESCMAE2010'\n",
    "    , 'escolaridade_mae'\n",
    "    , 'GRAVIDEZ'\n",
    "    , 'tipo_gravidez'\n",
    "    , 'SEMAGESTAC'\n",
    "    , 'idade_gestacao_faixa'\n",
    "    , 'SEXO'\n",
    "    , 'def_sexo'\n",
    "    , 'PESO'\n",
    "    , 'peso_faixa'\n",
    "    , 'FLAG_BASE'\n",
    "    ]\n",
    "]\n",
    "\n",
    "df_sinasc.to_csv('base_suja/base_sinasc_suja.csv', index=False)"
   ]
  },
  {
   "cell_type": "markdown",
   "metadata": {},
   "source": [
    "# Tratando a base"
   ]
  },
  {
   "cell_type": "code",
   "execution_count": null,
   "metadata": {},
   "outputs": [],
   "source": [
    "# Configuration to show more rows and columns\n",
    "pd.set_option('display.max_rows', None)  # Show all rows\n",
    "pd.set_option('display.max_columns', None)  # Show all columns"
   ]
  },
  {
   "cell_type": "code",
   "execution_count": null,
   "metadata": {},
   "outputs": [],
   "source": [
    "df_sinasc.info()"
   ]
  },
  {
   "cell_type": "code",
   "execution_count": null,
   "metadata": {},
   "outputs": [],
   "source": [
    "df_sinasc.head()"
   ]
  },
  {
   "cell_type": "code",
   "execution_count": null,
   "metadata": {},
   "outputs": [],
   "source": [
    "# Duplicate data \n",
    "duplicados = df_sinasc.duplicated()\n",
    "soma = duplicados.sum()\n",
    "f\"\"\"The dataset has {soma} duplicate rows, which represents {round((soma/len(df_sinasc)) * 100, 2)} %\"\"\""
   ]
  },
  {
   "cell_type": "code",
   "execution_count": null,
   "metadata": {},
   "outputs": [],
   "source": [
    "# Frequency of duplicates by res_SIGLA_UF and ano_evento\n",
    "df_duplicados = df_sim_dofet[duplicados]\n",
    "df_duplicados.value_counts(['ano_nasc', 'res_SIGLA_UF'])"
   ]
  },
  {
   "cell_type": "code",
   "execution_count": null,
   "metadata": {},
   "outputs": [],
   "source": [
    "# Counting missing values\n",
    "df_sinasc_ = df_sinasc[df_sinasc['FLAG_BASE']=='SIM_DOFET']\n",
    "missing_count_sim_dofet = df_sim.isnull().sum()  # counts the null values in each column\n",
    "missing_percent_sim_dofet = round((missing_count_sim_dofet / len(df_sim)) * 100,2)  # calculates the percentage of null values\n",
    "missing_data_sim_dofet = pd.DataFrame({'Missing Count': missing_count_sim_dofet, 'Missing Percentage': missing_percent_sim_dofet})\n",
    "missing_data_sim_dofet.index.name = 'Variable'  # sets the index name to 'Variable'\n",
    "missing_data_sim_dofet.reset_index(inplace=True)  # resets the index to make 'Variable' a column\n",
    "missing_data_sim_dofet['BASE'] = 'SIM_DOFET'\n",
    "\n",
    "\n",
    "# Sorting the DataFrame by the highest missing frequencies\n",
    "missing_data_sorted = missing_data_sim_dofet.sort_values(by=['BASE', 'Missing Count'], ascending=False)\n",
    "\n",
    "missing_data_sorted[missing_data_sorted['Missing Percentage'] > 0]"
   ]
  }
 ],
 "metadata": {
  "kernelspec": {
   "display_name": "Python 3",
   "language": "python",
   "name": "python3"
  },
  "language_info": {
   "codemirror_mode": {
    "name": "ipython",
    "version": 3
   },
   "file_extension": ".py",
   "mimetype": "text/x-python",
   "name": "python",
   "nbconvert_exporter": "python",
   "pygments_lexer": "ipython3",
   "version": "3.8.5"
  }
 },
 "nbformat": 4,
 "nbformat_minor": 4
}
